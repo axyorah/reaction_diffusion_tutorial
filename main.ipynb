{
 "cells": [
  {
   "cell_type": "markdown",
   "metadata": {},
   "source": [
    "## Reaction-Diffusion systems: oscillations in time and space\n",
    "### Why would you even want to code it anyway\n",
    "\n",
    "Oscillating dynamic systems are fascinating! And omnipresent... No matter your background, you've probably come in contact with oscillators during your studies, be it in a form of an [RLC contour](https://en.wikipedia.org/wiki/RLC_circuit) in your electrical engineering class or in a form of a [circadian clock](https://en.wikipedia.org/wiki/Circadian_clock) in your biochemistry class.\n",
    "\n",
    "[![Briggs–Rauscher reaction](https://upload.wikimedia.org/wikipedia/commons/thumb/8/8c/Briggs%E2%80%93Rauscher_reaction.webm/320px--Briggs%E2%80%93Rauscher_reaction.webm.jpg)](https://upload.wikimedia.org/wikipedia/commons/8/8c/Briggs%E2%80%93Rauscher_reaction.webm \"Briggs–Rauscher reaction\")\n",
    "<body><center><font size=\"2\"><br>[Briggs–Rauscher](https://en.wikipedia.org/wiki/Briggs%E2%80%93Rauscher_reaction) reaction  is a well-known chemical oscillator <br>(click on the image) </font></center></body>\n",
    "\n",
    "Random question #1: what does the Briggs-Rauscher reaction in the video above have to do with the dotted pattern of cheetah and stripy pattern of zebra on the images below? Well, since this question is asked in the tutorial dedicated to oscillators, you might've guessed that the answer should have something to do with the oscillators... And this is indeed true. Although, if the Briggs-Rauscher reaction is an example of a system, that is periodic in time and is perfectly stable (homogenous) in space, the patterns on animal fur, quite the opposite, are examples of systems, that are periodic in space and perfectly stable in time. The idea, that initially homogenous systems can develop spatial patterns (periodicity in space), that stabilize with time, was discussed back in the 1952 by Alan Turing in [Chemical Basis of Morphogenesis](http://www.dna.caltech.edu/courses/cs191/paperscs191/turing.pdf). This seminal paper showed that the formation of many complex spatial patterns can be nicely described by all too familiar maths (and physics)! Which is really good news for anyone, who wants to recreate the formation of such patterns _in silico_.\n",
    "\n",
    "<table>\n",
    "<td>\n",
    "<img width=\"250\" height=\"150\" src='images/Cheetah_pattern.jpg'></img>\n",
    "<body><center><br>Stationary dotted pattern of cheetah ([img](https://upload.wikimedia.org/wikipedia/commons/6/68/Cheetah_%28Kruger_National_Park%2C_South_Africa%2C_2001%29.jpg))</center></body>\n",
    "<td>\n",
    "<td>\n",
    "<img width=\"250\" height=\"150\" src='images/zebra_pattern.jpg'></img>\n",
    "<body><center><br>Stationary stripy pattern of zebra ([img](https://upload.wikimedia.org/wikipedia/commons/1/12/Hartmann_zebra_hobatere_S.jpg))</center></body>\n",
    "<td>\n",
    "</table>\n",
    "\n",
    "Now you might be thinking: ok, I can picture systems, that are periodic in time and stable (homogenous) in space - they behave like chemical oscillators in a well-stirred beaker; I can also picture systems that are periodic in space and stable in time - these are the systems, that, e.g., describe the formation of patterns on animal fur. But what about the systems that are periodic in both time and space? That's a great thing to wonder about, as diversity of patterns and complexity of behaviours, emerging in such systems, is mind-boggling! In literature you would usually find mentions of spirals, standing waves and packet waves, which often emerge in such systems. In physical world these patterns occur, e.g., in a petri dish with [Belousov-Zhabotinsky](https://en.wikipedia.org/wiki/Belousov%E2%80%93Zhabotinsky_reaction) reaction. But there's so much more to it! In autocatacytic Reaction-Diffusion system described by the Gray-Scott model you can stumble upon dynamic patterns that resemble cell division, coral growth and even the formation of exotic [U-skates](http://mrob.com/pub/comp/xmorphia/uskate-world.html)! Robert Munafo's [xmorphia](http://mrob.com/pub/comp/xmorphia/index.html) is a great resource to explore all the bizzare patterns that emerge in Gray-Scott system. Here are some examples:\n",
    "\n",
    "<table>\n",
    "<td>\n",
    "    <img src='https://upload.wikimedia.org/wikipedia/commons/d/d9/The_Belousov-Zhabotinsky_Reaction.gif' style=\"width:200px;height:200px;\"></img>\n",
    "    <body><center> <br>Spirals in <br> [Belousov-Zhabotinsky](https://en.wikipedia.org/wiki/Belousov%E2%80%93Zhabotinsky_reaction) reaction</center> </body>\n",
    "<td>    \n",
    "\n",
    "<td>\n",
    "<img src='https://j.gifs.com/MQG2RR.gif' style=\"width:200px;height:200px;\"></img>\n",
    "<body><center><br>\"Cell division\" and \"coral growth\" <br>in Gray-Scott Reaction-Diffusion system ([vid](https://www.youtube.com/watch?v=PtPK_xx5Hks))</center></body>\n",
    "<td>\n",
    "    \n",
    "<td>\n",
    "    <img src='https://j.gifs.com/oQ1KOY.gif' style=\"width:300px;height:200px;\"></img>    \n",
    "    <body><center> \"U-skates\" emerging <br>in Gray-Scott Reaction-Diffusion system ([vid](http://mrob.com/pub/comp/xmorphia/index.html#formula))</center></body>\n",
    "<td>\n",
    "</table>\n",
    "\n",
    "In this notebook we will NOT explore all the complexity of the emergent behaviour in Reaction-Diffusion systems. Instead we will learn how to set up such systems from scratch in python and how to systematically search for interesting patterns. I will just go ahead and assume that most people reading this are curious about the topic, but hadn't had a proper time to explore it yet; so you probably still remember some bits and pieces from Calculus and Linear Algebra, but wouldn't mind a recap. Of course, if you feel you're well versed in both, feel free to skip the recap-sections. \n",
    "\n",
    "The whole notebook is divided into two parts:\n",
    "- [**Translating the maths behind the reaction-diffusion system into a code _efficiently_**](...). As the name suggests, in this part we'll write a code for generic reaction-diffusion system, so that you can easily cutomize it later and play around with the settings. This part is heavy on calculus and has occasional intrusions of linear algebra. At the end you'll know how to do something like this:\n",
    "\n",
    "<img src=\"images/lenna_reaction_diffusion.gif\"></img>\n",
    "\n",
    "- [**Figuring out what makes system behave in an _interesting_ way**](...). Here we'll work with much simpler systems compared to the previous part, but we'll be studying them much more systematically. At the end you should have an idea of which settings to toggle to make the system behave in a way you want to... more or less... This part has linear algebra galore! Here's a snapshot of horrors that lie ahead:\n",
    "\n",
    "<img src=\"images/snapshot_of_horrors.png\"></img>\n",
    "\n",
    "(You'll be a better person when it's over...)\n",
    "\n",
    "><font size=2>\n",
    "  In both parts we'll be working with _two_ system representations: \"physical\" and [state-space](https://en.wikipedia.org/wiki/State-space_representation). Physical representation uses notation familiar from textbooks, so we'll use this representation when initially working out the equations (e.g., we'll use $c$ for concentrations/expression levels and $k$ for reaction rate coefficients). State-space representation abstracts away from any physical meaning, which obfuscates things a little, but at the same time makes it more convenient to use general-purpose math tools. We'll mostly use state space notation in the code (e.g., we'll use $x$ to denote system state variables, $u$ to denote external inputs and $p$ to denote system parameters)</font>. \n"
   ]
  },
  {
   "cell_type": "code",
   "execution_count": null,
   "metadata": {},
   "outputs": [],
   "source": []
  }
 ],
 "metadata": {
  "kernelspec": {
   "display_name": "Python 3",
   "language": "python",
   "name": "python3"
  },
  "language_info": {
   "codemirror_mode": {
    "name": "ipython",
    "version": 3
   },
   "file_extension": ".py",
   "mimetype": "text/x-python",
   "name": "python",
   "nbconvert_exporter": "python",
   "pygments_lexer": "ipython3",
   "version": "3.6.6"
  }
 },
 "nbformat": 4,
 "nbformat_minor": 2
}
