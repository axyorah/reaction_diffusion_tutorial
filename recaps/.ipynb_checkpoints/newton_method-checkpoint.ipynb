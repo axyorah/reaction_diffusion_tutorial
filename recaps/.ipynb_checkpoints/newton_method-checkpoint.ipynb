{
 "cells": [
  {
   "cell_type": "markdown",
   "metadata": {},
   "source": [
    "### Newton's method for finding the roots of system of equations\n",
    "\n",
    "\n",
    "<font color=\"red\"><br>\n",
    "- Newton's method for a single equation \n",
    "    $f(x) = 0$: $ \\frac{df(x_{i})}{dt} = \\frac{f(x_{i+1}) - f(x_{i})}{x_{i+1} - x_{i}} \\rightarrow \n",
    "    [f(x_{i+1}) = 0] \\rightarrow\n",
    "     x_{i+1} = x_{i} - \\frac{f(x_{i})}{df(x_{i})/dt}$ <br>\n",
    "- Newton's method for a system of equations (vectorized): \n",
    "    $\\textbf{x}_{i+1} = \\textbf{x}_{i} - \\textbf{J}^{-1}f(\\textbf{x}_{i})$ <br>\n",
    "\n",
    "Jacobian for a system $ \\begin{cases} \\mu x^{*}_{prey} - \\frac{k}{Y} x^{*}_{prey}x^{*}_{pred} = 0 \\\\ k x^{*}_{prey}x^{*}_{pred} - b x^{*}_{pred} = 0 \\end{cases} $ is\n",
    "\n",
    "$ J = \\begin{bmatrix} \\frac{\\partial(\\mu x_{prey} - \\frac{k}{Y} x_{prey}x_{pred})}{\\partial{x_{prey}}} & \n",
    "                      \\frac{\\partial(\\mu x_{prey} - \\frac{k}{Y} x_{prey}x_{pred})}{\\partial{x_{pred}}} \\\\ \n",
    "                      \\frac{\\partial(k x_{prey}x_{pred} - b x_{pred})}{\\partial{x_{prey}}} & \n",
    "                      \\frac{\\partial(k x_{prey}x_{pred} - b x_{pred})}{\\partial{x_{pred}}} \\end{bmatrix} \\rightarrow\n",
    "      \\begin{bmatrix} \\mu - \\frac{k}{Y} x_{pred} & -\\frac{k}{Y} x_{prey} \\\\\n",
    "                      k x_{pred} & k x_{prey} - b \\end{bmatrix} $\n",
    "\n",
    "</font>\n"
   ]
  },
  {
   "cell_type": "code",
   "execution_count": 39,
   "metadata": {},
   "outputs": [],
   "source": [
    "import numpy as np\n",
    "\n",
    "# define the system\n",
    "def pred_prey(x, p):\n",
    "    prey, pred = x[0,0], x[1,0]\n",
    "    \n",
    "    fun = np.array([[p['mu']*prey - p['k']/p['y']*prey*pred],\n",
    "                    [p['k']*prey*pred - p['b']*pred]])\n",
    "    \n",
    "    J = np.array([[p['mu']-p['k']/p['y']*pred, -p['k']/p['y']*prey],\n",
    "                  [p['k']*pred,                 p['k']*prey - p['b']]])\n",
    "    \n",
    "    return fun, J\n",
    "\n",
    "# parameters\n",
    "p = {'mu': 0.8,  # growth rate of prey\n",
    "     'k' : 0.2,  # success rate of predator\n",
    "     'y' : 0.5,  # predator yield on prey \n",
    "     'b' : 0.5}  # decay rate of predator \n",
    "    "
   ]
  },
  {
   "cell_type": "code",
   "execution_count": 40,
   "metadata": {},
   "outputs": [
    {
     "name": "stdout",
     "output_type": "stream",
     "text": [
      "2.5000000000000155 2.0000000000000124\n"
     ]
    }
   ],
   "source": [
    "# ---numerical solution (Newton's method)---\n",
    "def newton_method(fx, x):    \n",
    "    fun = x.copy() \n",
    "    tol = 1e-5 # tolerance\n",
    "    while sum(np.abs(fun)) > tol: # or x[0,0] < 0 or x[1,0] < 0\n",
    "\n",
    "        fun, J = fx(x, p)\n",
    "\n",
    "        x -= np.linalg.inv(J) @ fun\n",
    "        \n",
    "    return x\n",
    "\n",
    "# initial guess for x\n",
    "x = np.array([[10.],[10.]]) \n",
    "\n",
    "# find better x iteratively\n",
    "x = newton_method(pred_prey, x)\n",
    "prey, pred = x[0,0], x[1,0]\n",
    "\n",
    "print(prey, pred)"
   ]
  },
  {
   "cell_type": "code",
   "execution_count": 41,
   "metadata": {},
   "outputs": [
    {
     "name": "stdout",
     "output_type": "stream",
     "text": [
      "2.5 2.0\n"
     ]
    }
   ],
   "source": [
    "# ---analytical solution---\n",
    "prey = p['b']/p['k']\n",
    "pred = p['mu']*p['y']/p['k']\n",
    "\n",
    "print(prey, pred)\n",
    "\n"
   ]
  },
  {
   "cell_type": "code",
   "execution_count": null,
   "metadata": {},
   "outputs": [],
   "source": []
  }
 ],
 "metadata": {
  "kernelspec": {
   "display_name": "Python 3",
   "language": "python",
   "name": "python3"
  },
  "language_info": {
   "codemirror_mode": {
    "name": "ipython",
    "version": 3
   },
   "file_extension": ".py",
   "mimetype": "text/x-python",
   "name": "python",
   "nbconvert_exporter": "python",
   "pygments_lexer": "ipython3",
   "version": "3.6.7"
  }
 },
 "nbformat": 4,
 "nbformat_minor": 2
}
