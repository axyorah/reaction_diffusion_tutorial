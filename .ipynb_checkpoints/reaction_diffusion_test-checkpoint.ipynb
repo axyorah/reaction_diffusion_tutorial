{
 "cells": [
  {
   "cell_type": "code",
   "execution_count": null,
   "metadata": {},
   "outputs": [],
   "source": [
    "import numpy as np\n",
    "import matplotlib.pyplot as plt\n",
    "import matplotlib.patches as mpatches\n",
    "from bokeh.plotting import figure\n",
    "from bokeh.io import push_notebook, show, output_notebook\n",
    "from bokeh.models.widgets import Div\n",
    "from bokeh.layouts import row, column\n",
    "from  ipywidgets import interact\n",
    "#import warnings\n",
    "#warnings.filterwarnings('ignore') \n",
    "output_notebook()"
   ]
  },
  {
   "cell_type": "code",
   "execution_count": null,
   "metadata": {},
   "outputs": [],
   "source": [
    "A = np.array([[-0.25, 0.25],\n",
    "              [-0.25, 0   ]])"
   ]
  },
  {
   "cell_type": "code",
   "execution_count": null,
   "metadata": {},
   "outputs": [],
   "source": [
    "p_aa_span, p_ba_span = np.linspace(-1,1,201), np.linspace(-1,1,201)\n",
    "p_map = np.zeros((len(p_aa_span), len(p_ba_span)))\n",
    "\n",
    "for ip_aa,p_aa in enumerate(p_aa_span):\n",
    "    for ip_ba,p_ba in enumerate(p_ba_span):\n",
    "        A[0,0] = p_aa\n",
    "        A[0,1] = p_ba\n",
    "    \n",
    "        eigval,_ = np.linalg.eig(A)\n",
    "        \n",
    "        # yes oscillations\n",
    "        if np.imag(eigval[0]) or np.imag(eigval[1]): \n",
    "            # undamped (exploding oscillations)\n",
    "            if np.real(eigval[0]) > 0 or np.real(eigval[1]) > 0: \n",
    "                p_map[ip_aa,ip_ba] = 0.75\n",
    "            # critically damped (periodic oscillations)\n",
    "            elif np.real(eigval[0]) == 0 and np.real(eigval[1]) == 0:\n",
    "                p_map[ip_aa,ip_ba] = 0.5\n",
    "            # subcritically damped (decaying oscillations -> stable steady-state)\n",
    "            else:             \n",
    "                p_map[ip_aa,ip_ba] = 0.25\n",
    "        # no oscillations\n",
    "        else:\n",
    "            # undamped (exploding)\n",
    "            if eigval[0] > 0 or eigval[1] > 0:\n",
    "                p_map[ip_aa,ip_ba] = 1\n",
    "            # damped (stable steady-state)\n",
    "            else:\n",
    "                p_map[ip_aa,ip_ba] = 0.1\n",
    "                \n",
    "                \n",
    "im = plt.imshow(p_map, interpolation=\"none\", cmap=\"bone\")\n",
    "\n",
    "# get legend: specify color and label for each behaviour patter \n",
    "values   = np.unique(p_map.ravel())\n",
    "patterns = [\"damped\", \"decaying \\noscillations\", \"periodic \\noscillations\", \"undamped \\noscillations\", \"undamped\"]\n",
    "colors   = [ im.cmap(im.norm(value)) for value in values]\n",
    "patches  = [ mpatches.Patch(color=colors[i], label=patterns[i] ) for i in range(len(values)) ]\n",
    "plt.legend(handles=patches, bbox_to_anchor=(1.05, 1), loc=2, borderaxespad=0. )\n",
    "\n",
    "# specify axes\n",
    "plt.xticks(np.linspace(0,len(p_ba_span),5), np.linspace(p_ba_span[0], p_ba_span[-1], 5))\n",
    "plt.yticks(np.linspace(0,len(p_aa_span),5), np.linspace(p_aa_span[0], p_aa_span[-1], 5))\n",
    "plt.xlabel(\"$p_{BA}$\")\n",
    "plt.ylabel(\"$p_{AA}$\")\n",
    "\n",
    "plt.savefig(\"images/parameter_map.png\", dpi=300, bbox_inches=None, pad_inches=0.1)"
   ]
  },
  {
   "cell_type": "code",
   "execution_count": null,
   "metadata": {},
   "outputs": [],
   "source": [
    "div = Div(width=350, text=\"\"\"<img src=\"images/parameter_map.png\"></img>\"\"\")\n",
    "\n",
    "show(row(plt1, div), notebook_handle=True)\n",
    "\n",
    "# add interactive sliders to check the effect of parameters and dt\n",
    "def update(p_aa=-0.10, p_ba=-0.25):\n",
    "    dt = 0.05\n",
    "    t = np.arange(t0,tf+dt,dt)\n",
    "    c_num = rungeKutta2(balances, x0, t, [p_aa, p_ba, 0.25])\n",
    "    c_a, c_b = c_num\n",
    "    \n",
    "    r1a.data_source.data = {'x': t,   'y': c_a}\n",
    "    r1b.data_source.data = {'x': t,   'y': c_b}\n",
    "    r2.data_source.data  = {'x': c_a, 'y': c_b}\n",
    "    push_notebook()\n",
    "\n",
    "interact(update, p_aa=(-1,1,0.005), p_ba=(-1,1,0.005))"
   ]
  },
  {
   "cell_type": "code",
   "execution_count": null,
   "metadata": {},
   "outputs": [],
   "source": [
    "# load/resize image\n",
    "img = Image.open('images/lenna.png')# you can upload your own image...\n",
    "img = img.resize(size=(80,80))      # resize to reduce simulation time\n",
    "img_mtx = np.array(img)             # convert img to ndarray\n",
    "\n",
    "# specify time, initial condition and parameters\n",
    "t0, tf, dt = 0, 10, 0.05\n",
    "t_span = np.arange(t0,tf+dt,dt)\n",
    "x0 = img_mtx.ravel()/255    # we'll use the image as initial condition! (flattened and rescaled)\n",
    "p = {'size': img_mtx.shape, # image size\n",
    "     'dr': 1,               # step-size in vertical direction (in our case it's just 1 px)\n",
    "     'dc': 1,               # step-size in horizontal direction\n",
    "     'D': [0.02, 0.01, 0.03],# diffusion constants for RGB channels\n",
    "     'k1': 0.20,         # some reaction coefficients\n",
    "     'k2': 0.15,\n",
    "     'k3': 0.10,\n",
    "     'k4': 0.05}\n",
    "\n",
    "# run the simulation: use Euler Forward to find the RGB \"concentrations\" numerically\n",
    "img_development = eulerForward(diffuse, x0, t_span, p)\n",
    "\n",
    "# plot stuff!\n",
    "img_data = ColumnDataSource({'img': [np.flipud(convert2img(img_development.T[0], p['size']))]})\n",
    "\n",
    "pb = figure(x_range=(0,p['size'][0]), y_range=(0,p['size'][1]),\n",
    "            plot_width=p['size'][0]*4, plot_height=p['size'][1]*4)\n",
    "r = pb.image_rgba(image='img', source=img_data, x=0, y=0, dw=p['size'][0], dh=p['size'][1])\n",
    "show(pb, notebook_handle=True)\n",
    "\n",
    "# add a slider to check the effect of diffusion over time\n",
    "def update(t=0):\n",
    "    i = int(t/dt)\n",
    "    r.data_source.data['img'] = [np.flipud(convert2img(img_development.T[i], p['size']))]\n",
    "    push_notebook()\n",
    "    \n",
    "interact(update, t=(t0,tf,dt))"
   ]
  },
  {
   "cell_type": "code",
   "execution_count": null,
   "metadata": {},
   "outputs": [],
   "source": [
    "fig = plt.figure()\n",
    "imgs = [[plt.imshow(convert2img(img_development.T[i], p['size']), animated=True)]\n",
    "         for i in range(len(t_span))]\n",
    "gif = ArtistAnimation(fig, imgs, interval=100, blit=True, repeat_delay=1000)\n",
    "gif.save('images\\img_reaction_diffusion.mp4')\n",
    "plt.show()"
   ]
  },
  {
   "cell_type": "code",
   "execution_count": null,
   "metadata": {},
   "outputs": [],
   "source": [
    "%%HTML\n",
    "<iframe height=\"300\" width=\"400\" src=\"images/img_reaction_diffusion.mp4\"></iframe>"
   ]
  }
 ],
 "metadata": {
  "kernelspec": {
   "display_name": "Python 3",
   "language": "python",
   "name": "python3"
  },
  "language_info": {
   "codemirror_mode": {
    "name": "ipython",
    "version": 3
   },
   "file_extension": ".py",
   "mimetype": "text/x-python",
   "name": "python",
   "nbconvert_exporter": "python",
   "pygments_lexer": "ipython3",
   "version": "3.6.6"
  }
 },
 "nbformat": 4,
 "nbformat_minor": 2
}
