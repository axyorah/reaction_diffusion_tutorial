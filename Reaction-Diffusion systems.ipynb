{
 "cells": [
  {
   "cell_type": "markdown",
   "metadata": {},
   "source": [
    "## Oscillation in time and space with python: Reaction-Diffusion systems from scratch\n",
    "### Why would you even want to code it at the first place\n",
    "\n",
    "Oscillating dynamic systems are fascinating! And omnipresent... No matter your background, you've probably come in contact with oscillators during your studies, be it in a form of an [RLC contour](https://en.wikipedia.org/wiki/RLC_circuit) in your electrical engineering class or in a form of a [circadian clock](https://en.wikipedia.org/wiki/Circadian_clock) in your biochemistry class.\n",
    "\n",
    "[![Briggs–Rauscher reaction](https://upload.wikimedia.org/wikipedia/commons/thumb/8/8c/Briggs%E2%80%93Rauscher_reaction.webm/320px--Briggs%E2%80%93Rauscher_reaction.webm.jpg)](https://upload.wikimedia.org/wikipedia/commons/8/8c/Briggs%E2%80%93Rauscher_reaction.webm \"Briggs–Rauscher reaction\")\n",
    "<body><center><font size=\"2\">__<br>[Briggs–Rauscher](https://en.wikipedia.org/wiki/Briggs%E2%80%93Rauscher_reaction) reaction  is a famous chemical oscillator <br>(click on the image)__ </font></center></body>\n",
    "\n",
    "Random question #1: what does the Briggs-Rauscher reaction in the video above has to do with the dotted pattern of cheetah and stripy pattern of zebra on the images below? Well, since this question is asked in the tutorial dedicated to oscillators, you might've guessed that the answer should have something to do with the oscillators... And this is indeed true. Although, if the Briggs-Rauscher reaction is an example of a system, that is periodic in time and is perfectly stable (homogenous) in space, the patterns on animal fur, quite the opposite, are examples of a system, that is periodic in space and is perfectly stable in time. The idea that initially homogenous systems can develop spatial patterns (periodicity in space) that stabilize with time, was discussed back in the 1952 by Alan Turing in [Chemical Basis of Morphogenesis](http://www.dna.caltech.edu/courses/cs191/paperscs191/turing.pdf). This seminal paper showed that the formation of many complex spatial patterns can be nicely described by all too familiar maths (and physics)! Which is really good news for anyone, who wants to recreate the formation of such patterns _in silico_.\n",
    "\n",
    "<table>\n",
    "<td>\n",
    "<img width=\"250\" height=\"150\" src='images/Cheetah_pattern.jpg'></img>\n",
    "<body><center><br>__Dotted pattern of cheetah__ ([source](https://upload.wikimedia.org/wikipedia/commons/6/68/Cheetah_%28Kruger_National_Park%2C_South_Africa%2C_2001%29.jpg))</center></body>\n",
    "<td>\n",
    "<td>\n",
    "<img width=\"250\" height=\"150\" src='images/zebra_pattern.jpg'></img>\n",
    "<body><center><br>__Stripy pattern of zebra__ ([source](https://upload.wikimedia.org/wikipedia/commons/1/12/Hartmann_zebra_hobatere_S.jpg))</center></body>\n",
    "<td>\n",
    "</table>\n",
    "\n",
    "Now you might be thinking: ok, I can picture systems, that are periodic in time and stable (homogenous) in space - they behave like chemical oscillators in a well-stirred beaker; I can also picture systems that are periodic in space and stable in time - these are the systems, that, e.g., describe the formation of patterns on animal fur. But what about the systems that are periodic in both time and space? That's a great thing to wonder about, as diversity of patterns and complexity of behaviours, emerging in such systems, is mind-boggling! In literature you would usually find mentions of spirals, standing waves and packet waves, which often emerge in such systems. In physical world these patterns occur, e.g., in a petri dish with [Belousov-Zhabotinsky](https://en.wikipedia.org/wiki/Belousov%E2%80%93Zhabotinsky_reaction) reaction. But there's so much more to it! In autocatacytic Reaction-Diffusion system described by the Gray-Scott model you can stumble upon dynamic patterns that resemble cell division, coral growth and even the formation of exotic [U-skates](http://mrob.com/pub/comp/xmorphia/uskate-world.html)! Robert Munafo's [xmorphia](http://mrob.com/pub/comp/xmorphia/index.html) is a great resource to explore all the bizzare patterns that emerge in Gray-Scott system. Here are some examples:\n",
    "\n",
    "<table>\n",
    "<td>\n",
    "    <img src='https://upload.wikimedia.org/wikipedia/commons/d/d9/The_Belousov-Zhabotinsky_Reaction.gif' style=\"width:200px;height:200px;\"></img>\n",
    "    <body><center> __<br>Spirals in <br> [Belousov-Zhabotinsky](https://en.wikipedia.org/wiki/Belousov%E2%80%93Zhabotinsky_reaction) reaction__</center> </body>\n",
    "<td>    \n",
    "\n",
    "<td>\n",
    "<img src='https://j.gifs.com/MQG2RR.gif' style=\"width:200px;height:200px;\"></img>\n",
    "<body><center>__<br>\"Cell division\" and \"coral growth\" <br>in Gray-Scott Reaction-Diffusion system ([source](https://www.youtube.com/watch?v=PtPK_xx5Hks))__</center></body>\n",
    "<td>\n",
    "    \n",
    "<td>\n",
    "    <img src='https://j.gifs.com/oQ1KOY.gif' style=\"width:300px;height:200px;\"></img>    \n",
    "    <body><center> __\"U-skates\" emerging <br>in Gray-Scott Reaction-Diffusion system ([source](http://mrob.com/pub/comp/xmorphia/index.html#formula))__</center></body>\n",
    "<td>\n",
    "</table>\n",
    "\n",
    "In this tutorial we will NOT explore all the complexity of the emergent behaviour in Reaction-Diffusion systems. Instead we will learn how to set up such systems from scratch in python and how to systematically search for interesting patterns. I will assume that most people reading this are curious about the topic, but hadn't had a proper time to explore it yet. I will also assume that people reading this still remember bits and pieces from Calculus and Linear Algebra, but wouldn't mind a recap. If you feel you're well versed in both, feel free to skip the recap-sections. Ok, here goes!\n"
   ]
  },
  {
   "cell_type": "markdown",
   "metadata": {},
   "source": [
    "### Few words on setting up (partial) differential equations\n",
    "\n",
    "Systems that change over time are classically described by differential equations, that reflect conservation of some property of the system: at any point in time all the stuff that goes into the box must go out of the box, it doesn't spontaneously emerge or disappear into the void. Simple. \n",
    "\n",
    "_Ok, what if it doesn't disappear, but is just converted into \"other stuff\" in some sort of reaction (not necessarily chemical)?_ \n",
    "\n",
    "Fine, at any point in time all the stuff that goes into the box must balance out the stuff that goes out of the box and reacts away inside the box (also, for general accounting purposes, we should write a similar balance for the \"other stuff\", which is now generated inside the box). \n",
    "\n",
    "_Ok ok, but what if the box has a capacity to build up and release some reserve of stuff?_ \n",
    "\n",
    "Fine! Any stuff that comes in and is not balanced out by going out and reacting away, is accumulated inside the box!\n",
    "\n",
    "<img src=\"images/setting_up_the_balance.png\" style=\"width:770px;height:270px;\"></img>\n",
    "\n",
    "_Better. But what's this! Concentration of stuff is the same everywhere in the box? This might be acceptable to describe a chemical reaction in a well-stirred beakon, but what about all those nonhomogenous systems?_ \n",
    "\n",
    "Easy. We'll just pretend that our box is composed of several smaller compartments connected in series. Concentration of stuff inside each compartment can be homogenous, but, as long as the number of such compartments is sufficiently high, this __tanks-is-series__ model should approximate the original system well.\n",
    "\n",
    "<img src=\"images/setting_up_the_pfr_balance_hor.png\" style=\"width:850px;height:250px;\"></img>\n",
    "\n",
    "_Better, but still not perfect. Now all the stuff is always moving in the same direction - there's no back mixing... This model might be acceptable to describe the flow of water through long narrow pipes, but there's no way we can use it to describe the growth of bacteria in a petri dish, where stuff diffuses in all directions... _\n",
    "\n",
    "Ok, __diffusion__ is a bit trickier. Stuff, as expected, diffuses to locations, where its concentration is lower. More specifically, diffusive [flux](https://en.wikipedia.org/wiki/Flux) is driven by a concentration gradient - change in concentration per unit of distance ($-\\frac{dc}{dx}$) for those living in the 1D world, or per unit of space ($-\\nabla{c}$) for everyone else (\"$-$\" sign because the flux is _positive_ in the direction along which the concentration _decreases_). If we choose $D$ to be some proportionality constant, characteristic for our stuff and environment through which it diffuses, then we can write the expression for the diffusive flux as:\n",
    "\n",
    "$$ J = -D \\frac{dc}{dx} \\rightarrow J = -D \\nabla{c}$$\n",
    "\n",
    "Flux tells us something about the __direction__ of diffusion, but doesn't tell anything about its __rate__. To get the expression for the rate of concentration change at any point in space, we can speculate, that if there is no chemical reaction, the change of concentration can only be due to flux, so $ \\frac{\\partial c}{\\partial t} + \\frac{\\partial J}{\\partial x} = 0$. If we combine it with the expression for flux, we'll get the proper expression for the diffusion rate, also known as [second Fick's law](https://en.wikipedia.org/wiki/Fick%27s_laws_of_diffusion) of diffusion:\n",
    "\n",
    "$$ \\frac{\\partial c}{\\partial t} = D\\frac{\\partial^2 c}{\\partial x^2} \\rightarrow \\frac{\\partial c}{\\partial t} = D\\nabla^2{c}$$\n",
    "\n",
    "Discretization of this equation in 1D nicely shows, how it mathematically \"smoothens\" the concentration values over the neighbouring compartments: \n",
    "\n",
    "<img width=\"600\" height=\"55\" src=\"images/fick_discretization.png\"></img>\n",
    "\n",
    "You might imagine that this effect can be quite handy for blurring out the noise in the old images. And indeed, the exact same equation (although usually referred to as \"heat equation\") is used in image processing as a simple noise filter. Although there are better filters out there...\n",
    "\n",
    "The only thing left to do now is to figure out how we can adjust this expression to account for reaction. Well, if there _is_ a reaction, then the change of concentration of stuff at any point in space can be explained both by its diffusion from one point to another _and_ by its reaction to \"another stuff\". So we can just _add_ the reaction terms to the Fick's law, taking care of the units:\n",
    "\n",
    "<img width=\"700\" height=\"550\" src=\"images/reaction-diffusion.png\"></img>\n",
    "\n",
    "Notice how reaction rate is __local__: reaction rate in compartment ($i,j$) only depends on concentrations in compartment ($i,j$) and is completely unaffected by concentrations in neighbouring compartments. This might sound trivial, but it's good to acknowledge it, as it has some nice implications for the code: later on it will allow us to completely decouple the calculations for transport (diffusion) term from calculations of reaction term, which, in turn, will allows us to parallelize the calculations more efficiently! \n",
    "\n",
    "Although before we start coding the reaction-diffusion system, let's build up some intuition for simpler systems."
   ]
  },
  {
   "cell_type": "markdown",
   "metadata": {},
   "source": [
    "### Building up intuition with simple systems\n",
    "\n",
    "Let's be very clear: setting up a system of (partial) differential equations and writing a code for it can be a tedious process, but, all in all, it is a straightforward task. We can get a bit creative with optimizing the running time through parallelization and fixing the numerical instabilities by applying more sophisticated numerical solvers. But the real ingenuity lies in the analysis! \n",
    "\n",
    "\n",
    "sys1: linear\n",
    "sys2: classic predator-prey\n",
    "\n",
    "And if you've ever taken an undergraduate Calculus class, you might even recall that the oscillating behaviour can be nicely described by some neat math, which is usually introduced to students with a classic example of [predator-prey](https://en.wikipedia.org/wiki/Lotka%E2%80%93Volterra_equations) system: as wolves hunt bunnies, bunny-population deminishes $\\rightarrow$ as bunny-population deminishes, wolves starve to death $\\rightarrow$ as wolves starve, bunnies begin to flourish again $\\rightarrow$ as bunny-population grows, wolves start to flousih as well, etc, - the system oscillates!\n",
    "\n",
    "Classic predator-prey system nicely describes, how different species affect each other at different points in time, but it completely ignores the spacial component. Or, acutally, it implicitly assumes that at any point in time each species is homogenously distributed over the space. This is a valid assumption for \"well-stirred\" systems, where each species can change its position in space so quick, that it doesn't really have any effect on dynamics (we'll leave answering \"what's quick enough\" for later). But what about all the other not-so-well-stirred systems, where the time it takes for a species to diffuse from point _A_ to point _B_ can no longer be ignored? \n",
    "\n",
    "In mathematical jargon the systems, that acknowledge both local interaction (__reaction__) between the species and their __diffusion__ in space, are unoriginallly called __Reaction-Diffusion__ systems. And yes, you'll need to use a bit more complex math to describe and analyse such systems. But in return you'll open up the whole new dimension of bizzare patterns and complex behaviours! Totally worth all the extra effort! Here are some inspiring examples:  \n",
    "\n",
    "\n",
    "<table>\n",
    "<td>\n",
    "<img src='https://upload.wikimedia.org/wikipedia/commons/thumb/6/62/LotkaVolterra_en.svg/320px-LotkaVolterra_en.svg.png'> </img>\n",
    "<body><center><font size=\"2\">__Typical illustration of a predator-prey system, <br> that you've probably seen during your Calculus class__</font></center></body>\n",
    "<td>\n",
    "</table>"
   ]
  },
  {
   "cell_type": "markdown",
   "metadata": {},
   "source": [
    "### Why should we care about the eigenvalues and eigenvectors"
   ]
  },
  {
   "cell_type": "markdown",
   "metadata": {},
   "source": [
    "### What would happen if we add diffusion?"
   ]
  },
  {
   "cell_type": "markdown",
   "metadata": {},
   "source": [
    "### Finally: proper Reaction-Diffusion systems"
   ]
  },
  {
   "cell_type": "markdown",
   "metadata": {},
   "source": [
    "    \n",
    "<td>\n",
    "<img src='https://j.gifs.com/pQ1q4m.gif' style=\"width:200px;height:200px;\"></img>\n",
    "<body><center>__\"U-skates\" emerging <br>in [Gray-Scott](http://mrob.com/pub/comp/xmorphia/index.html#formula) Reaction-Diffusion system__</center></body>\n",
    "<td>\n",
    "                                                        \n",
    "                                                        \n",
    "$$ \\frac{\\partial x}{\\partial t} = D\\frac{\\partial^2 x}{\\partial z^2} \\rightarrow \\frac{\\partial x}{\\partial t} = D\\nabla^2{x}$$\n",
    "                                                        \n",
    "<img width=\"700\" height=\"70\" src=\"images/fick_discretization.png\"></img>"
   ]
  }
 ],
 "metadata": {
  "kernelspec": {
   "display_name": "Python 3",
   "language": "python",
   "name": "python3"
  },
  "language_info": {
   "codemirror_mode": {
    "name": "ipython",
    "version": 3
   },
   "file_extension": ".py",
   "mimetype": "text/x-python",
   "name": "python",
   "nbconvert_exporter": "python",
   "pygments_lexer": "ipython3",
   "version": "3.6.6"
  }
 },
 "nbformat": 4,
 "nbformat_minor": 2
}
