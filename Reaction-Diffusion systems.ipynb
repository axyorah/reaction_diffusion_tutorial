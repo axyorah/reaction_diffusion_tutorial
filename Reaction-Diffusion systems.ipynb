{
 "cells": [
  {
   "cell_type": "markdown",
   "metadata": {},
   "source": [
    "## Oscillation in time and space with python: Reaction-Diffusion systems from scratch\n",
    "### Why would you even want to code it at the first place\n",
    "\n",
    "Oscillating dynamic systems are fascinating! And omnipresent... No matter your background, you've probably come in contact with oscillators during your studies, be it in a form of an [RLC contour](https://en.wikipedia.org/wiki/RLC_circuit) in your electrical engineering class or in a form of a [circadian clock](https://en.wikipedia.org/wiki/Circadian_clock) in your biochemistry class.\n",
    "\n",
    "And if you've ever taken an undergraduate Calculus class, you might even recall that the oscillating behaviour can be nicely described by some neat math, which is usually introduced to students with a classic example of [predator-prey](https://en.wikipedia.org/wiki/Lotka%E2%80%93Volterra_equations) system: as wolves hunt bunnies, bunny-population deminishes $\\rightarrow$ as bunny-population deminishes, wolves starve to death $\\rightarrow$ as wolves starve, bunnies begin to flourish again $\\rightarrow$ as bunny-population grows, wolves start to flousih as well, etc, - the system oscillates!\n",
    "\n",
    "<table>\n",
    "<td>    \n",
    "    [![Briggs–Rauscher reaction](https://upload.wikimedia.org/wikipedia/commons/thumb/8/8c/Briggs%E2%80%93Rauscher_reaction.webm/320px--Briggs%E2%80%93Rauscher_reaction.webm.jpg)](https://upload.wikimedia.org/wikipedia/commons/8/8c/Briggs%E2%80%93Rauscher_reaction.webm \"Briggs–Rauscher reaction\")\n",
    "<body><center><font size=\"2\">__<br>[Briggs–Rauscher](https://en.wikipedia.org/wiki/Briggs%E2%80%93Rauscher_reaction) reaction  is a famous chemical oscillator <br>(click on the image)__ </font></center></body>\n",
    "   \n",
    "<td>    \n",
    "<td>\n",
    "    <img src='https://upload.wikimedia.org/wikipedia/commons/thumb/6/62/LotkaVolterra_en.svg/320px-LotkaVolterra_en.svg.png'> </img>\n",
    "    <body><center><font size=\"2\">__Typical illustration of a predator-prey system, <br> that you've probably seen during your Calculus class__</font></center></body>\n",
    "<td>\n",
    "</table>\n",
    "\n",
    "Classic predator-prey system nicely describes, how different species affect each other at different points in time, but it completely ignores the spacial component. Or, acutally, it implicitly assumes that at any point in time each species is homogenously distributed over the space. This is a valid assumption for \"well-stirred\" systems, where each species can change its position in space so quick, that it doesn't really have any effect on dynamics (we'll leave answering \"what's quick enough\" for later). But what about all the other not-so-well-stirred systems, where the time it takes for a species to diffuse from point _A_ to point _B_ can no longer be ignored? \n",
    "\n",
    "In mathematical jargon the systems, that acknowledge both local interaction (__reaction__) between the species and their __diffusion__ in space, are unoriginallly called __Reaction-Diffusion__ systems. And yes, you'll need to use a bit more complex math to describe and analyse such systems. But in return you'll open up the whole new dimension of bizzare patterns and complex behaviours! Totally worth all the extra effort! Here are some inspiring examples:  \n",
    "\n",
    "<table>\n",
    "<td>\n",
    "    <img src='https://upload.wikimedia.org/wikipedia/commons/d/d9/The_Belousov-Zhabotinsky_Reaction.gif' style=\"width:200px;height:200px;\"></img>\n",
    "    <body> <center> __Simulation of <br> [Belousov-Zhabotinsky](https://en.wikipedia.org/wiki/Belousov%E2%80%93Zhabotinsky_reaction) reaction__</center> </body>\n",
    "<td>    \n",
    "    \n",
    "<td>\n",
    "    <img src='https://j.gifs.com/oQ1KOY.gif' style=\"width:300px;height:200px;\"></img>    \n",
    "    <body> <center> __Simulation of [Gray-Scott](http://mrob.com/pub/comp/xmorphia/index.html#formula) system (F=0.062, k=0.0609)__</center></body>\n",
    "<td>\n",
    "</table>\n",
    "\n",
    "In this tutorial we'll write the code for a two-component Reaction-Diffusion system form scratch in Python. I will assume that most people reading this still remember a bit of Calculus and Linear Algebra, but wouldn't mind a recap. If you feel you're well versed in both, feel free to skip the recap-sections. Otherwise let's first try to build some intuition for a simple dynamic system without any diffusion in sight. "
   ]
  },
  {
   "cell_type": "markdown",
   "metadata": {},
   "source": [
    "### Testing out the intuition on simple linear systems"
   ]
  },
  {
   "cell_type": "markdown",
   "metadata": {},
   "source": [
    "### Why should we care about the eigenvalues and eigenvectors"
   ]
  },
  {
   "cell_type": "markdown",
   "metadata": {},
   "source": [
    "### Types of complex behaviour in Reaction-Diffusion systems"
   ]
  }
 ],
 "metadata": {
  "kernelspec": {
   "display_name": "Python 3",
   "language": "python",
   "name": "python3"
  },
  "language_info": {
   "codemirror_mode": {
    "name": "ipython",
    "version": 3
   },
   "file_extension": ".py",
   "mimetype": "text/x-python",
   "name": "python",
   "nbconvert_exporter": "python",
   "pygments_lexer": "ipython3",
   "version": "3.6.6"
  }
 },
 "nbformat": 4,
 "nbformat_minor": 2
}
